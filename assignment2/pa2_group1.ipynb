{
 "cells": [
  {
   "cell_type": "code",
   "execution_count": 1,
   "metadata": {},
   "outputs": [],
   "source": [
    "import pandas as pd\n",
    "\n",
    "data_train = pd.read_csv('adult_train.csv')\n",
    "\n",
    "Xtrain, Ytrain = data_train.iloc[:, :-1], data_train.iloc[:, -1]\n",
    "\n",
    "data_test = pd.read_csv('adult_test.csv')\n",
    "\n",
    "Xtest, Ytest = data_test.iloc[:, :-1], data_test.iloc[:, -1]\n"
   ]
  },
  {
   "cell_type": "code",
   "execution_count": 2,
   "metadata": {},
   "outputs": [
    {
     "name": "stderr",
     "output_type": "stream",
     "text": [
      "/Users/rikard/opt/anaconda3/lib/python3.9/site-packages/scipy/__init__.py:155: UserWarning: A NumPy version >=1.18.5 and <1.25.0 is required for this version of SciPy (detected version 1.26.2\n",
      "  warnings.warn(f\"A NumPy version >={np_minversion} and <{np_maxversion}\"\n"
     ]
    }
   ],
   "source": [
    "from sklearn.feature_extraction import DictVectorizer\n",
    "\n",
    "\n",
    "train_dicts = Xtrain.to_dict('records')\n",
    "test_dicts = Xtest.to_dict('records')\n",
    "dv = DictVectorizer()\n",
    "X_train_encoded = dv.fit_transform(train_dicts)\n",
    "X_test_encoded = dv.transform(test_dicts)\n",
    "\n",
    "\n"
   ]
  },
  {
   "cell_type": "code",
   "execution_count": 3,
   "metadata": {},
   "outputs": [
    {
     "data": {
      "text/plain": [
       "0.8437702604618773"
      ]
     },
     "execution_count": 3,
     "metadata": {},
     "output_type": "execute_result"
    }
   ],
   "source": [
    "from sklearn.tree import DecisionTreeClassifier\n",
    "from sklearn.model_selection import cross_val_score\n",
    "import numpy as np\n",
    "\n",
    "clf = DecisionTreeClassifier(max_depth=3)\n",
    "scores = cross_val_score(clf, X_train_encoded, Ytrain)\n",
    "scores.mean()"
   ]
  },
  {
   "cell_type": "code",
   "execution_count": 4,
   "metadata": {},
   "outputs": [
    {
     "data": {
      "text/plain": [
       "Pipeline(steps=[('dictvectorizer', DictVectorizer()),\n",
       "                ('decisiontreeclassifier',\n",
       "                 DecisionTreeClassifier(max_depth=3))])"
      ]
     },
     "execution_count": 4,
     "metadata": {},
     "output_type": "execute_result"
    }
   ],
   "source": [
    "from sklearn.pipeline import make_pipeline\n",
    "from sklearn.tree import DecisionTreeClassifier\n",
    "  \n",
    "pipeline = make_pipeline(\n",
    "  DictVectorizer(),\n",
    "  DecisionTreeClassifier(max_depth=3)\n",
    ")\n",
    "\n",
    "pipeline.fit(train_dicts, Ytrain)"
   ]
  },
  {
   "cell_type": "code",
   "execution_count": 5,
   "metadata": {},
   "outputs": [
    {
     "data": {
      "text/plain": [
       "0.8437702604618773"
      ]
     },
     "execution_count": 5,
     "metadata": {},
     "output_type": "execute_result"
    }
   ],
   "source": [
    "scores = cross_val_score(pipeline, train_dicts, Ytrain)\n",
    "scores.mean()"
   ]
  },
  {
   "cell_type": "markdown",
   "metadata": {},
   "source": [
    "**Task 2**\n"
   ]
  },
  {
   "cell_type": "code",
   "execution_count": 6,
   "metadata": {},
   "outputs": [],
   "source": [
    "from sklearn.metrics import accuracy_score\n",
    "import matplotlib.pyplot as plt\n",
    "\n",
    "pred_test_values = []\n",
    "pred_train_values = []\n",
    "for max_depth in range(1, 12):\n",
    "    pipeline = make_pipeline(\n",
    "        DictVectorizer(),\n",
    "        DecisionTreeClassifier(max_depth=max_depth)\n",
    "        )\n",
    "\n",
    "    pipeline.fit(train_dicts, Ytrain)\n",
    "\n",
    "    pred_train_values.append(accuracy_score(Ytrain, pipeline.predict(train_dicts)))\n",
    "    pred_test_values.append(accuracy_score(Ytest, pipeline.predict(test_dicts)))\n",
    "\n",
    "x = range(1, 12)\n",
    "plt.plot(x, pred_train_values, 'b', label='train')\n",
    "plt.plot(x, pred_test_values, 'r', label='test')\n",
    "plt.grid('True')\n",
    "plt.legend()"
   ]
  },
  {
   "cell_type": "markdown",
   "metadata": {},
   "source": [
    "**Underfitting and overfitting in decision tree classifiers.**\n",
    "\n",
    "We see that the test and train accuracy diverge when the max depth gets large, which is similar to what we got in the previous assignment (task 4 step 4)."
   ]
  }
 ],
 "metadata": {
  "kernelspec": {
   "display_name": "base",
   "language": "python",
   "name": "python3"
  },
  "language_info": {
   "codemirror_mode": {
    "name": "ipython",
    "version": 3
   },
   "file_extension": ".py",
   "mimetype": "text/x-python",
   "name": "python",
   "nbconvert_exporter": "python",
   "pygments_lexer": "ipython3",
   "version": "3.9.13"
  }
 },
 "nbformat": 4,
 "nbformat_minor": 2
}
