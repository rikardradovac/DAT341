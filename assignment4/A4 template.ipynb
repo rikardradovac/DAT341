{
 "cells": [
  {
   "cell_type": "code",
   "execution_count": 3,
   "id": "5f0fea34",
   "metadata": {},
   "outputs": [],
   "source": [
    "import pandas as pd\n",
    "import numpy as np\n",
    "import torch"
   ]
  },
  {
   "cell_type": "markdown",
   "id": "56578f6f",
   "metadata": {},
   "source": [
    "# Task 1"
   ]
  },
  {
   "cell_type": "markdown",
   "id": "1761f4d2",
   "metadata": {},
   "source": [
    "Loading the synthetic dataset."
   ]
  },
  {
   "cell_type": "code",
   "execution_count": 4,
   "id": "aacba01e",
   "metadata": {},
   "outputs": [],
   "source": [
    "# You may need to edit the path, depending on where you put the files.\n",
    "data = pd.read_csv(\"data/a4_synthetic.csv\")\n",
    "\n",
    "X = data.drop(columns=\"y\").to_numpy()\n",
    "Y = data.y.to_numpy()"
   ]
  },
  {
   "cell_type": "markdown",
   "id": "b166d6ba",
   "metadata": {},
   "source": [
    "Training a linear regression model for this synthetic dataset."
   ]
  },
  {
   "cell_type": "code",
   "execution_count": 3,
   "id": "111ff34b",
   "metadata": {},
   "outputs": [
    {
     "name": "stdout",
     "output_type": "stream",
     "text": [
      "Epoch 1: MSE = 0.7999661130823178\n",
      "Epoch 2: MSE = 0.017392390107906875\n",
      "Epoch 3: MSE = 0.009377418010839892\n",
      "Epoch 4: MSE = 0.009355326971438456\n",
      "Epoch 5: MSE = 0.009365440968904256\n",
      "Epoch 6: MSE = 0.009366989180952533\n",
      "Epoch 7: MSE = 0.009367207398577986\n",
      "Epoch 8: MSE = 0.009367238983974489\n",
      "Epoch 9: MSE = 0.009367243704122532\n",
      "Epoch 10: MSE = 0.009367244427185763\n"
     ]
    }
   ],
   "source": [
    "np.random.seed(1)\n",
    "\n",
    "w_init = np.random.normal(size=(2, 1))\n",
    "b_init = np.random.normal(size=(1, 1))\n",
    "\n",
    "# We just declare the parameter tensors. Do not use nn.Linear.\n",
    "w = torch.tensor(w_init, requires_grad=True)\n",
    "b = torch.tensor(b_init, requires_grad=True)\n",
    "\n",
    "eta = 1e-2\n",
    "opt = torch.optim.SGD([w, b], lr=eta)\n",
    "\n",
    "for i in range(10):\n",
    "    sum_err = 0\n",
    "\n",
    "    for row in range(X.shape[0]):\n",
    "        x = torch.tensor(X[[row], :])\n",
    "        y = torch.tensor(Y[[row]])\n",
    "\n",
    "        # Forward pass\n",
    "        opt.zero_grad()\n",
    "        y_pred = x @ w + b\n",
    "        err = (y_pred - y) ** 2\n",
    "\n",
    "        # Backward and update.\n",
    "        # TODO: compute gradients and then update the model.\n",
    "        err.backward()\n",
    "        opt.step()\n",
    "\n",
    "        # For statistics.\n",
    "        sum_err += err.item()\n",
    "\n",
    "    mse = sum_err / X.shape[0]\n",
    "    print(f\"Epoch {i+1}: MSE =\", mse)"
   ]
  },
  {
   "cell_type": "markdown",
   "id": "ee3f221d",
   "metadata": {},
   "source": [
    "# Task 2"
   ]
  },
  {
   "cell_type": "code",
   "execution_count": 108,
   "id": "56be71d4",
   "metadata": {},
   "outputs": [],
   "source": [
    "class Tensor:\n",
    "    # Constructor. Just store the input values.\n",
    "    def __init__(self, data, requires_grad=False, grad_fn=None):\n",
    "        self.data = data\n",
    "        self.shape = data.shape\n",
    "        self.grad_fn = grad_fn\n",
    "        self.requires_grad = requires_grad\n",
    "        self.grad = None\n",
    "\n",
    "    # So that we can print the object or show it in a notebook cell.\n",
    "    def __repr__(self):\n",
    "        dstr = repr(self.data)\n",
    "        if self.requires_grad:\n",
    "            gstr = \", requires_grad=True\"\n",
    "        elif self.grad_fn is not None:\n",
    "            gstr = f\", grad_fn={self.grad_fn}\"\n",
    "        else:\n",
    "            gstr = \"\"\n",
    "        return f\"Tensor({dstr}{gstr})\"\n",
    "\n",
    "    # Extract one numerical value from this tensor.\n",
    "    def item(self):\n",
    "        return self.data.item()\n",
    "\n",
    "    # YOUR WORK WILL BE DONE BELOW\n",
    "\n",
    "    # For Task 2:\n",
    "\n",
    "    # Operator +\n",
    "    def __add__(self, right):\n",
    "        # performs add operation\n",
    "        new_data = self.data + right.data\n",
    "        grad_fn = AdditionNode(self, right)\n",
    "        if self.requires_grad or right.requires_grad:\n",
    "            return Tensor(new_data, grad_fn=grad_fn, requires_grad=True)\n",
    "        return Tensor(new_data, grad_fn=grad_fn)\n",
    "\n",
    "    # Operator -\n",
    "    def __sub__(self, right):\n",
    "        new_data = self.data - right.data\n",
    "        grad_fn = SubtractionNode(self, right)\n",
    "        if self.requires_grad or right.requires_grad:\n",
    "            return Tensor(new_data, grad_fn=grad_fn, requires_grad=True)\n",
    "        return Tensor(new_data, grad_fn=grad_fn)\n",
    "\n",
    "    # Operator @\n",
    "    def __matmul__(self, right):\n",
    "        new_data = self.data @ right.data\n",
    "        grad_fn = MatMulNode(self, right)\n",
    "        if self.requires_grad or right.requires_grad:\n",
    "            return Tensor(new_data, grad_fn=grad_fn, requires_grad=True)\n",
    "        return Tensor(new_data, grad_fn=grad_fn)\n",
    "\n",
    "    # Operator **\n",
    "    def __pow__(self, right):\n",
    "        # NOTE! We are assuming that right is an integer here, not a Tensor!\n",
    "        if not isinstance(right, int):\n",
    "            raise Exception(\"only integers allowed\")\n",
    "        if right < 2:\n",
    "            raise Exception(\"power must be ∏= 2\")\n",
    "        grad_fn = PowNode(self, right)\n",
    "        new_data = self.data**right\n",
    "        if self.requires_grad:\n",
    "            return Tensor(new_data, grad_fn=grad_fn, requires_grad=True)\n",
    "        return Tensor(new_data, grad_fn=grad_fn)\n",
    "    \n",
    "    def __truediv__(self, right):\n",
    "        right = tensor(np.array(right)) if isinstance(right, int) else right \n",
    "        new_data = self.data / right.data\n",
    "        grad_fn = DivisionNode(self, right)\n",
    "        if self.requires_grad or right.requires_grad:\n",
    "            return Tensor(new_data, grad_fn=grad_fn, requires_grad=True)\n",
    "        return Tensor(new_data, grad_fn=grad_fn)\n",
    "    \n",
    "    def __neg__(self):\n",
    "        return tensor(-self.data)\n",
    "    \n",
    "    def __radd__(self, right):\n",
    "        if isinstance(right, int):\n",
    "            return tensor(np.array(right) + self.data)\n",
    "        return right + self\n",
    "    \n",
    "    def __rsub__(self, right):\n",
    "        if isinstance(right, int):\n",
    "            return tensor(np.array(right) - self.data)\n",
    "        return right - self\n",
    "    \n",
    "    def __mul__(self, right):\n",
    "        new_data = self.data * right.data\n",
    "        grad_fn = MultiplicationNode(self, right)\n",
    "        if self.requires_grad or right.requires_grad:\n",
    "            return Tensor(new_data, grad_fn=grad_fn, requires_grad=True)\n",
    "        return Tensor(new_data, grad_fn=grad_fn)\n",
    "    \n",
    "    def log(self):\n",
    "        new_data = np.log(self.data)\n",
    "        grad_fn = LogNode(self)\n",
    "        if self.requires_grad:\n",
    "            return Tensor(new_data, grad_fn=grad_fn, requires_grad=True)\n",
    "        return Tensor(new_data, grad_fn=grad_fn)\n",
    "    \n",
    "    def tanh(self):\n",
    "        # using tanh formula e^x - e^-x / e^x + e^-x\n",
    "        new_data = np.exp(self.data) - np.exp(-self.data) / (np.exp(self.data) + np.exp(-self.data))\n",
    "        grad_fn = TanhNode(self)\n",
    "        if self.requires_grad:\n",
    "            return Tensor(new_data, grad_fn=grad_fn, requires_grad=True)\n",
    "        return Tensor(new_data, grad_fn=grad_fn)\n",
    "    \n",
    "    def sum(self):\n",
    "        new_data = np.sum(self.data)\n",
    "        grad_fn = SumNode(self)\n",
    "        if self.requires_grad:\n",
    "            return Tensor(new_data, grad_fn=grad_fn, requires_grad=True)\n",
    "        return Tensor(new_data, grad_fn=grad_fn)\n",
    "    \n",
    "    # Backward computations. Will be implemented in Task 4.\n",
    "    def backward(self, grad_output=None):\n",
    "        # We first check if this tensor has a grad_fn: that is, one of the\n",
    "        # nodes that you defined in Task 3.\n",
    "\n",
    "        if self.grad_fn is not None:\n",
    "            # If grad_fn is defined, we have computed this tensor using some operation.\n",
    "            if grad_output is None:\n",
    "                # This is the starting point of the backward computation.\n",
    "                # This will typically be the tensor storing the output of\n",
    "                # the loss function, on which we have called .backward()\n",
    "                # in the training loop.\n",
    "\n",
    "                # L_grad_fn --> Pow node --> tensor(left), int right\n",
    "\n",
    "                # print(\"self\", self)\n",
    "                self.grad_fn.backward(1)\n",
    "\n",
    "            else:\n",
    "                # This is an intermediate node in the computational graph.\n",
    "                # This corresponds to any intermediate computation, such as\n",
    "                # a hidden layer.\n",
    "                self.grad_fn.backward(self.grad)\n",
    "\n",
    "                # self.backward(self.grad)\n",
    "        else:\n",
    "            # If grad_fn is not defined, this is an endpoint in the computational\n",
    "            # graph: learnable model parameters or input data.\n",
    "\n",
    "            if self.requires_grad:\n",
    "                # This tensor *requires* a gradient to be computed. This will\n",
    "                # typically be a tensor that holds learnable parameters.\n",
    "\n",
    "                self.grad = grad_output\n",
    "            else:\n",
    "                # This tensor *does not require* a gradient to be computed. This\n",
    "                # will typically be a tensor holding input data.\n",
    "                self.grad = None\n",
    "\n",
    "\n",
    "# A small utility where we simply create a Tensor object. We use this to\n",
    "# mimic torch.tensor.\n",
    "def tensor(data, requires_grad=False):\n",
    "    return Tensor(data, requires_grad)\n",
    "\n",
    "\n",
    "# We define helper functions to implement the various arithmetic operations.\n",
    "\n",
    "# This function takes two tensors as input, and returns a new tensor holding\n",
    "# the result of an element-wise addition on the two input tensors."
   ]
  },
  {
   "cell_type": "markdown",
   "id": "36d0f04c",
   "metadata": {},
   "source": [
    "Some sanity checks."
   ]
  },
  {
   "cell_type": "code",
   "execution_count": 5,
   "id": "f2014827",
   "metadata": {},
   "outputs": [
    {
     "name": "stdout",
     "output_type": "stream",
     "text": [
      "Test of addition: [[2. 3.]] + [[1. 4.]] = [[3. 7.]]\n",
      "Test of subtraction: [[2. 3.]] - [[1. 4.]] = [[ 1. -1.]]\n",
      "Test of power: [[1. 4.]] ** 2 = [[ 1. 16.]]\n",
      "Test of matrix multiplication: [[2. 3.]] @ [[-1. ]\n",
      " [ 1.2]] = [[1.6]]\n"
     ]
    }
   ],
   "source": [
    "# Two tensors holding row vectors.\n",
    "x1 = tensor(np.array([[2.0, 3.0]]))\n",
    "x2 = tensor(np.array([[1.0, 4.0]]))\n",
    "# A tensors holding a column vector.\n",
    "w = tensor(np.array([[-1.0], [1.2]]))\n",
    "\n",
    "# Test the arithmetic operations.\n",
    "test_plus = x1 + x2\n",
    "test_minus = x1 - x2\n",
    "test_power = x2**2\n",
    "test_matmul = x1 @ w\n",
    "test_combination = (x1**2 - x2 @ w) ** 3\n",
    "\n",
    "print(f\"Test of addition: {x1.data} + {x2.data} = {test_plus.data}\")\n",
    "print(f\"Test of subtraction: {x1.data} - {x2.data} = {test_minus.data}\")\n",
    "print(f\"Test of power: {x2.data} ** 2 = {test_power.data}\")\n",
    "print(f\"Test of matrix multiplication: {x1.data} @ {w.data} = {test_matmul.data}\")\n",
    "\n",
    "\n",
    "# Check that the results are as expected. Will crash if there is a miscalculation.\n",
    "assert np.allclose(test_plus.data, np.array([[3.0, 7.0]]))\n",
    "assert np.allclose(test_minus.data, np.array([[1.0, -1.0]]))\n",
    "assert np.allclose(test_power.data, np.array([[1.0, 16.0]]))\n",
    "assert np.allclose(test_matmul.data, np.array([[1.6]]))\n",
    "assert np.allclose(test_combination.data, np.array([[8.00000e-03, 1.40608e02]]))"
   ]
  },
  {
   "cell_type": "markdown",
   "id": "7c645c32",
   "metadata": {},
   "source": [
    "# Tasks 3 and 4"
   ]
  },
  {
   "cell_type": "code",
   "execution_count": 97,
   "id": "9133db2f",
   "metadata": {},
   "outputs": [],
   "source": [
    "class Node:\n",
    "    def __init__(self):\n",
    "        pass\n",
    "\n",
    "    def backward(self, grad_output):\n",
    "        raise NotImplementedError(\"Unimplemented\")\n",
    "\n",
    "    def __repr__(self):\n",
    "        return str(type(self))\n",
    "\n",
    "\n",
    "class AdditionNode(Node):\n",
    "    def __init__(self, left, right):\n",
    "        self.left = left\n",
    "        self.right = right\n",
    "\n",
    "    def backward(self, grad_output):\n",
    "        # TODO: in Task 4, implement backward step for the addition operation.\n",
    "\n",
    "        self.left.grad = grad_output\n",
    "        self.right.grad = grad_output\n",
    "        self.right.backward(self.right.grad)\n",
    "        self.left.backward(self.left.grad)\n",
    "\n",
    "\n",
    "class SubtractionNode(Node):\n",
    "    def __init__(self, left, right):\n",
    "        self.left = left\n",
    "        self.right = right\n",
    "\n",
    "    def backward(self, grad_output):\n",
    "        # TODO: in Task 4, implement backward step for the addition operation.\n",
    "\n",
    "        self.left.grad = grad_output\n",
    "        self.right.grad = -grad_output\n",
    "        self.right.backward(self.right.grad)\n",
    "        self.left.backward(self.left.grad)\n",
    "\n",
    "\n",
    "class MatMulNode(Node):\n",
    "    def __init__(self, left, right):\n",
    "        self.left = left\n",
    "        self.right = right\n",
    "\n",
    "    def backward(self, grad_output):\n",
    "        self.left.grad = self.right @ grad_output\n",
    "        self.right.grad = self.left.data.T @ grad_output\n",
    "        self.right.backward(self.right.grad)\n",
    "        self.left.backward(self.left.grad)\n",
    "\n",
    "\n",
    "class PowNode(Node):\n",
    "    def __init__(self, left, right):\n",
    "        self.left = left\n",
    "        self.right = right\n",
    "\n",
    "    def backward(self, grad_output):\n",
    "        # TODO: in Task 4, implement backward step for the addition operation.\n",
    "\n",
    "        self.left.grad = (self.right * self.left.data ** (self.right - 1)) * grad_output\n",
    "        self.left.backward(self.left.grad)\n",
    "        \n",
    "        \n",
    "class DivisionNode(Node):\n",
    "    def __init__(self, left, right):\n",
    "        self.left = left\n",
    "        self.right = right\n",
    "\n",
    "    def backward(self, grad_output):\n",
    "        ##\n",
    "        \n",
    "        self.left.grad = grad_output / self.right.data\n",
    "        self.right.grad = -grad_output * self.left.data / (self.right.data**2)\n",
    "        \n",
    "class LogNode(Node):\n",
    "    def __init__(self, left):\n",
    "        self.left = left\n",
    "\n",
    "    def backward(self, grad_output):\n",
    "        self.left.grad = grad_output * (1/self.left.data)\n",
    "        self.left.backward(self.left.grad)\n",
    "        \n",
    "class TanhNode(Node):\n",
    "    def __init__(self, left):\n",
    "        self.left = left\n",
    "\n",
    "    def backward(self, grad_output):\n",
    "        self.left.grad = grad_output * (1 - (self.left.data ** 2))\n",
    "        self.left.backward(self.left.grad)\n",
    "        \n",
    "class MultiplicationNode(Node):\n",
    "    def __init__(self, left, right):\n",
    "        self.left = left\n",
    "        self.right = right\n",
    "\n",
    "    def backward(self, grad_output):\n",
    "        self.left.grad = grad_output * self.right.data\n",
    "        self.right.grad = grad_output * self.left.data\n",
    "        self.right.backward(self.right.grad)\n",
    "        self.left.backward(self.left.grad)\n",
    "        \n",
    "        \n",
    "# create a class that will accound for summing a tensor\n",
    "class SumNode(Node):\n",
    "    def __init__(self, left):\n",
    "        self.left = left\n",
    "\n",
    "    def backward(self, grad_output):\n",
    "        self.left.grad = grad_output * np.ones_like(self.left.data)\n",
    "        self.left.backward(self.left.grad)"
   ]
  },
  {
   "cell_type": "markdown",
   "id": "9cc1bb77-e869-4e08-8996-3674eed101e6",
   "metadata": {},
   "source": [
    "Sanity check for Task 3."
   ]
  },
  {
   "cell_type": "code",
   "execution_count": 6,
   "id": "f3276aba-4def-421b-b12e-bf0d7120f19e",
   "metadata": {},
   "outputs": [
    {
     "name": "stdout",
     "output_type": "stream",
     "text": [
      "Computational graph top node after x + w1 + w2: <class '__main__.AdditionNode'>\n"
     ]
    }
   ],
   "source": [
    "x = tensor(np.array([[2.0, 3.0]]))\n",
    "w1 = tensor(np.array([[1.0, 4.0]]), requires_grad=True)\n",
    "w2 = tensor(np.array([[3.0, -1.0]]), requires_grad=True)\n",
    "\n",
    "test_graph = x + w1 + w2\n",
    "\n",
    "print(\"Computational graph top node after x + w1 + w2:\", test_graph.grad_fn)\n",
    "\n",
    "assert isinstance(test_graph.grad_fn, AdditionNode)\n",
    "assert test_graph.grad_fn.right is w2\n",
    "assert test_graph.grad_fn.left.grad_fn.left is x\n",
    "assert test_graph.grad_fn.left.grad_fn.right is w1"
   ]
  },
  {
   "cell_type": "markdown",
   "id": "529a9bfb-ea55-4bce-9356-4956316e1904",
   "metadata": {},
   "source": [
    "Sanity check for Task 4."
   ]
  },
  {
   "cell_type": "code",
   "execution_count": 30,
   "id": "32687661-a67d-4bef-9a90-7dabb93380a2",
   "metadata": {},
   "outputs": [
    {
     "name": "stdout",
     "output_type": "stream",
     "text": [
      "Gradient of loss w.r.t. w =\n",
      " [[5.6]\n",
      " [8.4]]\n"
     ]
    }
   ],
   "source": [
    "x = tensor(np.array([[2.0, 3.0]]))\n",
    "w = tensor(np.array([[-1.0], [1.2]]), requires_grad=True)\n",
    "y = tensor(np.array([[0.2]]))\n",
    "\n",
    "# We could as well write simply loss = (x @ w - y)**2\n",
    "# We break it down into steps here if you need to debug.\n",
    "\n",
    "model_out = x @ w\n",
    "diff = model_out - y\n",
    "loss = diff**2\n",
    "\n",
    "loss.backward()\n",
    "\n",
    "print(\"Gradient of loss w.r.t. w =\\n\", w.grad)\n",
    "\n",
    "assert np.allclose(w.grad, np.array([[5.6], [8.4]]))\n",
    "assert x.grad is None\n",
    "assert y.grad is None"
   ]
  },
  {
   "cell_type": "markdown",
   "id": "541cc295",
   "metadata": {},
   "source": [
    "An equivalent cell using PyTorch code. Your implementation should give the same result for `w.grad`."
   ]
  },
  {
   "cell_type": "code",
   "execution_count": 9,
   "id": "cabcc94a",
   "metadata": {},
   "outputs": [
    {
     "data": {
      "text/plain": [
       "tensor([[5.6000],\n",
       "        [8.4000]], dtype=torch.float64)"
      ]
     },
     "execution_count": 9,
     "metadata": {},
     "output_type": "execute_result"
    }
   ],
   "source": [
    "pt_x = torch.tensor(np.array([[2.0, 3.0]]))\n",
    "pt_w = torch.tensor(np.array([[-1.0], [1.2]]), requires_grad=True)\n",
    "pt_y = torch.tensor(np.array([[0.2]]))\n",
    "\n",
    "pt_model_out = pt_x @ pt_w\n",
    "pt_model_out.retain_grad()  # Keep the gradient of intermediate nodes for debugging.\n",
    "\n",
    "pt_diff = pt_model_out - pt_y\n",
    "pt_diff.retain_grad()\n",
    "\n",
    "pt_loss = pt_diff**2\n",
    "pt_loss.retain_grad()\n",
    "\n",
    "pt_loss.backward()\n",
    "pt_w.grad"
   ]
  },
  {
   "cell_type": "markdown",
   "id": "d0b5439b",
   "metadata": {},
   "source": [
    "# Task 5"
   ]
  },
  {
   "cell_type": "code",
   "execution_count": 10,
   "id": "0b03a8c5",
   "metadata": {},
   "outputs": [],
   "source": [
    "class Optimizer:\n",
    "    def __init__(self, params):\n",
    "        self.params = params\n",
    "\n",
    "    def zero_grad(self):\n",
    "        for p in self.params:\n",
    "            p.grad = np.zeros_like(p.data)\n",
    "\n",
    "    def step(self):\n",
    "        raise NotImplementedError(\"Unimplemented\")\n",
    "\n",
    "\n",
    "class SGD(Optimizer):\n",
    "    def __init__(self, params, lr):\n",
    "        super().__init__(params)\n",
    "        self.lr = lr\n",
    "\n",
    "    def step(self):\n",
    "        for p in self.params:\n",
    "            if p.requires_grad:\n",
    "                p.data -= self.lr * p.grad"
   ]
  },
  {
   "cell_type": "code",
   "execution_count": 13,
   "id": "685a8207",
   "metadata": {},
   "outputs": [
    {
     "name": "stdout",
     "output_type": "stream",
     "text": [
      "Epoch 1: MSE = 0.7999661130823178\n",
      "Epoch 2: MSE = 0.017392390107906875\n",
      "Epoch 3: MSE = 0.009377418010839892\n",
      "Epoch 4: MSE = 0.009355326971438456\n",
      "Epoch 5: MSE = 0.009365440968904256\n",
      "Epoch 6: MSE = 0.009366989180952533\n",
      "Epoch 7: MSE = 0.009367207398577986\n",
      "Epoch 8: MSE = 0.009367238983974489\n",
      "Epoch 9: MSE = 0.009367243704122532\n",
      "Epoch 10: MSE = 0.009367244427185763\n"
     ]
    }
   ],
   "source": [
    "np.random.seed(1)\n",
    "\n",
    "w_init = np.random.normal(size=(2, 1))\n",
    "b_init = np.random.normal(size=(1, 1))\n",
    "\n",
    "# We just declare the parameter tensors. Do not use nn.Linear.\n",
    "w = tensor(w_init, requires_grad=True)\n",
    "b = tensor(b_init, requires_grad=True)\n",
    "\n",
    "eta = 1e-2\n",
    "opt = SGD([w, b], lr=eta)\n",
    "\n",
    "for i in range(10):\n",
    "    sum_err = 0\n",
    "\n",
    "    for row in range(X.shape[0]):\n",
    "        x = tensor(X[[row], :])\n",
    "        y = tensor(Y[[row]])\n",
    "\n",
    "        # Forward pass\n",
    "        opt.zero_grad()\n",
    "        y_pred = x @ w + b\n",
    "        err = (y_pred - y) ** 2\n",
    "\n",
    "        # Backward and update.\n",
    "        # TODO: compute gradients and then update the model.\n",
    "        err.backward()\n",
    "        opt.step()\n",
    "\n",
    "        # For statistics.\n",
    "        sum_err += err.item()\n",
    "\n",
    "    mse = sum_err / X.shape[0]\n",
    "    print(f\"Epoch {i+1}: MSE =\", mse)"
   ]
  },
  {
   "cell_type": "markdown",
   "id": "28bef171",
   "metadata": {},
   "source": [
    "# Task 6"
   ]
  },
  {
   "cell_type": "code",
   "execution_count": null,
   "id": "da62980a",
   "metadata": {},
   "outputs": [],
   "source": [
    "from sklearn.preprocessing import scale\n",
    "from sklearn.model_selection import train_test_split\n",
    "\n",
    "# You may need to edit the path, depending on where you put the files.\n",
    "a4data = pd.read_csv(\"data/raisins.csv\")\n",
    "\n",
    "X = scale(a4data.drop(columns=\"Class\"))\n",
    "Y = 1.0 * (a4data.Class == \"Besni\").to_numpy()\n",
    "\n",
    "np.random.seed(0)\n",
    "shuffle = np.random.permutation(len(Y))\n",
    "X = X[shuffle]\n",
    "Y = Y[shuffle]\n",
    "\n",
    "Xtrain, Xtest, Ytrain, Ytest = train_test_split(X, Y, random_state=0, test_size=0.2)"
   ]
  },
  {
   "cell_type": "code",
   "execution_count": 46,
   "id": "04a37229",
   "metadata": {},
   "outputs": [],
   "source": [
    "# we will create a layer class to create a layer of neurons\n",
    "\n",
    "class Module:\n",
    "    def zero_grad(self):\n",
    "        for p in self.parameters():\n",
    "            p.grad = np.zeros_like(p.data)\n",
    "\n",
    "    def parameters(self):\n",
    "        raise NotImplementedError(\"Method for getting parameters is not implemented\")\n",
    "\n",
    "class Layer(Module):\n",
    "    def __init__(self, in_features, out_features):\n",
    "        self.w = tensor(np.random.normal(size=(in_features, out_features)), requires_grad=True)\n",
    "        self.b = tensor(np.random.normal(size=(1, out_features)), requires_grad=True)\n",
    "\n",
    "    def __call__(self, x):\n",
    "        model_output = x @ self.w + self.b\n",
    "       \n",
    "        return model_output.tanh()\n",
    "    \n",
    "    def parameters(self):\n",
    "        return [self.w, self.b]\n",
    "\n",
    "class MLP(Module):\n",
    "    def __init__(self, in_features, hidden_features, out_features):\n",
    "        self.hidden = Layer(in_features, hidden_features)\n",
    "        self.out = Layer(hidden_features, out_features)\n",
    "\n",
    "    def __call__(self, x):\n",
    "        return self.out(self.hidden(x))\n",
    "    \n",
    "\n",
    "def cross_entropy(y_pred, y_true):\n",
    "    return -y_true * np.log(y_pred) - (1 - y_true) * np.log(1 - y_pred)"
   ]
  },
  {
   "cell_type": "code",
   "execution_count": 47,
   "id": "4adf76cf",
   "metadata": {},
   "outputs": [
    {
     "data": {
      "text/plain": [
       "Tensor(array([[-1.        ],\n",
       "       [ 3.28549244]]), requires_grad=True)"
      ]
     },
     "execution_count": 47,
     "metadata": {},
     "output_type": "execute_result"
    }
   ],
   "source": [
    "\n",
    "model = MLP(Xtrain.shape[1], 10, 1)\n",
    "opt = SGD(model.hidden.w, lr=1e-2)\n"
   ]
  },
  {
   "cell_type": "code",
   "execution_count": 110,
   "id": "c287b518",
   "metadata": {},
   "outputs": [
    {
     "data": {
      "text/plain": [
       "Tensor(0.9433483923290391, requires_grad=True)"
      ]
     },
     "execution_count": 110,
     "metadata": {},
     "output_type": "execute_result"
    }
   ],
   "source": [
    "y_pred = tensor(np.array([[0.5], [0.8]]), requires_grad=True)\n",
    "y_true = tensor(np.array([[0.6], [0.3]]))\n",
    "\n",
    "# what should the loss be?\n",
    "\n",
    "\n",
    "def cross_entropy(y_pred, y_true):\n",
    "\n",
    "    return ((-y_true * y_pred.log() - (1 - y_true) * (1 - y_pred).log()).sum()) / y_true.shape[0]\n",
    "\n",
    "loss = cross_entropy(y_pred, y_true)\n",
    "loss\n"
   ]
  },
  {
   "cell_type": "code",
   "execution_count": 85,
   "id": "1b1c1a40",
   "metadata": {},
   "outputs": [
    {
     "data": {
      "text/plain": [
       "-0.4700036292457358"
      ]
     },
     "execution_count": 85,
     "metadata": {},
     "output_type": "execute_result"
    }
   ],
   "source": [
    "loss.data.shape\n",
    "\n",
    "# turn the loss into a scalar, it is of shiape (2, 1), i want to do sum with verctor of ones\n",
    "loss.data.sum()\n"
   ]
  }
 ],
 "metadata": {
  "kernelspec": {
   "display_name": "Python 3 (ipykernel)",
   "language": "python",
   "name": "python3"
  },
  "language_info": {
   "codemirror_mode": {
    "name": "ipython",
    "version": 3
   },
   "file_extension": ".py",
   "mimetype": "text/x-python",
   "name": "python",
   "nbconvert_exporter": "python",
   "pygments_lexer": "ipython3",
   "version": "3.9.13"
  }
 },
 "nbformat": 4,
 "nbformat_minor": 5
}
