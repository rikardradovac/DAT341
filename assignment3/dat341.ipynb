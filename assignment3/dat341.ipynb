{
 "cells": [
  {
   "cell_type": "code",
   "execution_count": 1,
   "id": "0b30e6de-2ada-4715-86eb-08413f32dfe2",
   "metadata": {},
   "outputs": [
    {
     "name": "stdout",
     "output_type": "stream",
     "text": [
      "\u001b[33mWARNING: Running pip as the 'root' user can result in broken permissions and conflicting behaviour with the system package manager. It is recommended to use a virtual environment instead: https://pip.pypa.io/warnings/venv\u001b[0m\u001b[33m\n",
      "\u001b[0m\u001b[33mWARNING: Running pip as the 'root' user can result in broken permissions and conflicting behaviour with the system package manager. It is recommended to use a virtual environment instead: https://pip.pypa.io/warnings/venv\u001b[0m\u001b[33m\n",
      "\u001b[0m\u001b[33mWARNING: Running pip as the 'root' user can result in broken permissions and conflicting behaviour with the system package manager. It is recommended to use a virtual environment instead: https://pip.pypa.io/warnings/venv\u001b[0m\u001b[33m\n",
      "\u001b[0m\u001b[33mWARNING: Running pip as the 'root' user can result in broken permissions and conflicting behaviour with the system package manager. It is recommended to use a virtual environment instead: https://pip.pypa.io/warnings/venv\u001b[0m\u001b[33m\n",
      "\u001b[0m\u001b[33mWARNING: Running pip as the 'root' user can result in broken permissions and conflicting behaviour with the system package manager. It is recommended to use a virtual environment instead: https://pip.pypa.io/warnings/venv\u001b[0m\u001b[33m\n",
      "\u001b[0m"
     ]
    }
   ],
   "source": [
    "!pip install transformers -q\n",
    "!pip install datasets -q\n",
    "!pip install accelerate -U -q\n",
    "!pip install evaluate -q\n",
    "!pip install optuna -q"
   ]
  },
  {
   "cell_type": "code",
   "execution_count": 15,
   "id": "18f4fbe5-302b-4cad-9c81-a6dcc8345452",
   "metadata": {},
   "outputs": [
    {
     "name": "stderr",
     "output_type": "stream",
     "text": [
      "huggingface/tokenizers: The current process just got forked, after parallelism has already been used. Disabling parallelism to avoid deadlocks...\n",
      "To disable this warning, you can either:\n",
      "\t- Avoid using `tokenizers` before the fork if possible\n",
      "\t- Explicitly set the environment variable TOKENIZERS_PARALLELISM=(true | false)\n"
     ]
    },
    {
     "name": "stdout",
     "output_type": "stream",
     "text": [
      "\u001b[33mWARNING: Running pip as the 'root' user can result in broken permissions and conflicting behaviour with the system package manager. It is recommended to use a virtual environment instead: https://pip.pypa.io/warnings/venv\u001b[0m\u001b[33m\n",
      "\u001b[0m"
     ]
    }
   ],
   "source": [
    "!pip install scikit-learn -q"
   ]
  },
  {
   "cell_type": "code",
   "execution_count": 1,
   "id": "dcd34f8e-3e7b-4093-8f20-9c3a19ef9ed6",
   "metadata": {},
   "outputs": [
    {
     "data": {
      "text/plain": [
       "<torch._C.Generator at 0x7fcc5df80390>"
      ]
     },
     "execution_count": 1,
     "metadata": {},
     "output_type": "execute_result"
    }
   ],
   "source": [
    "from transformers import AutoModelForSequenceClassification, AutoTokenizer, Trainer, TrainingArguments, DataCollatorWithPadding\n",
    "from datasets import load_dataset\n",
    "import pandas as pd\n",
    "import torch\n",
    "from collections import Counter\n",
    "\n",
    "torch.manual_seed(1337)"
   ]
  },
  {
   "cell_type": "code",
   "execution_count": 2,
   "id": "5a5cc241-369c-4ab4-a44e-01069f7a0402",
   "metadata": {},
   "outputs": [
    {
     "name": "stderr",
     "output_type": "stream",
     "text": [
      "Some weights of BertForSequenceClassification were not initialized from the model checkpoint at intfloat/e5-base-v2 and are newly initialized: ['classifier.bias', 'classifier.weight']\n",
      "You should probably TRAIN this model on a down-stream task to be able to use it for predictions and inference.\n"
     ]
    }
   ],
   "source": [
    "\n",
    "filepath_tsv = \"a3_train_final.tsv\"\n",
    "filepath_csv = \"a3_train_final.csv\"\n",
    "test_filepath_tsv = \"a3_test.tsv\"\n",
    "test_filepath_csv = \"a3_test.csv\"\n",
    "model_name = \"intfloat/e5-base-v2\"\n",
    "\n",
    "# load the tokenizer and model\n",
    "tokenizer = AutoTokenizer.from_pretrained(model_name)\n",
    "model = AutoModelForSequenceClassification.from_pretrained(model_name, num_labels=2)\n",
    "\n",
    "device = \"cuda\" if torch.cuda.is_available() else \"cpu\"\n",
    "model.to(device)\n",
    "\n",
    "\n",
    "def preprocess_labels(labels: str):\n",
    "    annotated_labels = labels.split(\"/\") \n",
    "    counts = Counter(annotated_labels)\n",
    "\n",
    "    # all labels appear the same amount of times, we assume that the last annotators is correct\n",
    "    if len(set(counts.values())) == 1:\n",
    "        return int(annotated_labels[-1])\n",
    "\n",
    "    # else we return the most common in the group\n",
    "    return int(counts.most_common(1)[0][0])\n",
    "\n",
    "def preprocess_function(examples):\n",
    "    # we use e5 so we need to add query prefix\n",
    "    examples = [\"query: \" + example for example in examples[\"text\"]]\n",
    "    return tokenizer(examples, truncation=True)\n"
   ]
  },
  {
   "cell_type": "code",
   "execution_count": null,
   "id": "3ac03155-1555-421a-a33e-772d69ca5a1f",
   "metadata": {},
   "outputs": [],
   "source": [
    "\n",
    "\n",
    "\n",
    "# preprocess the train dataset\n",
    "df = pd.read_csv(filepath_tsv, sep=\"\\t\", header=None)\n",
    "# apply the label selection\n",
    "df[0] = df[0].apply(preprocess_labels)\n",
    "# remove rows labeled as -1\n",
    "df = df.loc[df[0] != -1]\n",
    "\n",
    "df.to_csv(filepath_csv, index=False)\n",
    "\n",
    "# preprocess the test dataset\n",
    "df = pd.read_csv(test_filepath_tsv, sep=\"\\t\", header=None)\n",
    "df.to_csv(test_filepath_csv, index=False)\n",
    "test_dataset = load_dataset(\"csv\", data_files=test_filepath_csv)\n",
    "\n",
    "#rename the columns for interpretability\n",
    "test_dataset = test_dataset.rename_column(\"0\", \"label\")\n",
    "test_dataset = test_dataset.rename_column(\"1\", \"text\")\n",
    "test_dataset = test_dataset.map(preprocess_function, batched=True)[\"train\"]\n",
    "\n",
    "dataset = load_dataset(\"csv\", data_files=filepath_csv)\n",
    "dataset = dataset.rename_column(\"0\", \"label\")\n",
    "dataset = dataset.rename_column(\"1\", \"text\")\n",
    "dataset = dataset.map(preprocess_function, batched=True)[\"train\"]\n",
    "split_dataset = dataset.train_test_split(0.2, shuffle=True, seed=0)\n",
    "\n",
    "train_dataset = split_dataset[\"train\"]\n",
    "eval_dataset = split_dataset[\"test\"]\n",
    "\n",
    "\n",
    "\n"
   ]
  },
  {
   "cell_type": "code",
   "execution_count": 4,
   "id": "606551ee-81ac-4fe5-b473-7ea9d6c8d0fb",
   "metadata": {},
   "outputs": [],
   "source": [
    "import numpy as np\n",
    "import evaluate\n",
    "\n",
    "accuracy = evaluate.load(\"accuracy\")\n",
    "f1 = evaluate.load(\"f1\")\n",
    "\n",
    "def compute_metrics(eval_pred):\n",
    "    \"\"\"Computes f1 and accuracy scores for the model predictions\n",
    "    \"\"\"\n",
    "    predictions, labels = eval_pred\n",
    "    predictions = np.argmax(predictions, axis=1)\n",
    "\n",
    "    accuracy_score = accuracy.compute(predictions=predictions, references=labels)[\"accuracy\"]\n",
    "    f1_score = f1.compute(predictions=predictions, references=labels)[\"f1\"]\n",
    "    return {\"f1\": f1_score, \"accuracy\": accuracy_score}"
   ]
  },
  {
   "cell_type": "code",
   "execution_count": 5,
   "id": "be2ff43f-6be8-4ed0-aa12-d386d3a1db1b",
   "metadata": {},
   "outputs": [
    {
     "data": {
      "text/html": [
       "\n",
       "    <div>\n",
       "      \n",
       "      <progress value='4552' max='4552' style='width:300px; height:20px; vertical-align: middle;'></progress>\n",
       "      [4552/4552 17:52, Epoch 4/4]\n",
       "    </div>\n",
       "    <table border=\"1\" class=\"dataframe\">\n",
       "  <thead>\n",
       " <tr style=\"text-align: left;\">\n",
       "      <th>Step</th>\n",
       "      <th>Training Loss</th>\n",
       "      <th>Validation Loss</th>\n",
       "      <th>F1</th>\n",
       "      <th>Accuracy</th>\n",
       "    </tr>\n",
       "  </thead>\n",
       "  <tbody>\n",
       "    <tr>\n",
       "      <td>400</td>\n",
       "      <td>0.362700</td>\n",
       "      <td>0.278683</td>\n",
       "      <td>0.894483</td>\n",
       "      <td>0.894054</td>\n",
       "    </tr>\n",
       "    <tr>\n",
       "      <td>800</td>\n",
       "      <td>0.276300</td>\n",
       "      <td>0.256050</td>\n",
       "      <td>0.903958</td>\n",
       "      <td>0.902407</td>\n",
       "    </tr>\n",
       "    <tr>\n",
       "      <td>1200</td>\n",
       "      <td>0.256500</td>\n",
       "      <td>0.283237</td>\n",
       "      <td>0.901618</td>\n",
       "      <td>0.902407</td>\n",
       "    </tr>\n",
       "    <tr>\n",
       "      <td>1600</td>\n",
       "      <td>0.184100</td>\n",
       "      <td>0.271920</td>\n",
       "      <td>0.909306</td>\n",
       "      <td>0.907462</td>\n",
       "    </tr>\n",
       "    <tr>\n",
       "      <td>2000</td>\n",
       "      <td>0.173200</td>\n",
       "      <td>0.267339</td>\n",
       "      <td>0.910979</td>\n",
       "      <td>0.911419</td>\n",
       "    </tr>\n",
       "    <tr>\n",
       "      <td>2400</td>\n",
       "      <td>0.153000</td>\n",
       "      <td>0.298641</td>\n",
       "      <td>0.912670</td>\n",
       "      <td>0.911749</td>\n",
       "    </tr>\n",
       "    <tr>\n",
       "      <td>2800</td>\n",
       "      <td>0.102400</td>\n",
       "      <td>0.326358</td>\n",
       "      <td>0.910459</td>\n",
       "      <td>0.909770</td>\n",
       "    </tr>\n",
       "    <tr>\n",
       "      <td>3200</td>\n",
       "      <td>0.110400</td>\n",
       "      <td>0.323370</td>\n",
       "      <td>0.912642</td>\n",
       "      <td>0.911529</td>\n",
       "    </tr>\n",
       "    <tr>\n",
       "      <td>3600</td>\n",
       "      <td>0.094000</td>\n",
       "      <td>0.348532</td>\n",
       "      <td>0.911890</td>\n",
       "      <td>0.911309</td>\n",
       "    </tr>\n",
       "    <tr>\n",
       "      <td>4000</td>\n",
       "      <td>0.079300</td>\n",
       "      <td>0.348859</td>\n",
       "      <td>0.910169</td>\n",
       "      <td>0.910100</td>\n",
       "    </tr>\n",
       "    <tr>\n",
       "      <td>4400</td>\n",
       "      <td>0.068200</td>\n",
       "      <td>0.353095</td>\n",
       "      <td>0.911974</td>\n",
       "      <td>0.911529</td>\n",
       "    </tr>\n",
       "  </tbody>\n",
       "</table><p>"
      ],
      "text/plain": [
       "<IPython.core.display.HTML object>"
      ]
     },
     "metadata": {},
     "output_type": "display_data"
    },
    {
     "data": {
      "text/plain": [
       "TrainOutput(global_step=4552, training_loss=0.16576070462882206, metrics={'train_runtime': 1072.9131, 'train_samples_per_second': 135.675, 'train_steps_per_second': 4.243, 'total_flos': 1.026155315899296e+16, 'train_loss': 0.16576070462882206, 'epoch': 4.0})"
      ]
     },
     "execution_count": 5,
     "metadata": {},
     "output_type": "execute_result"
    }
   ],
   "source": [
    "data_collator = DataCollatorWithPadding(tokenizer=tokenizer)\n",
    "\n",
    "training_args = TrainingArguments(\n",
    "    output_dir=\"covid_classification\",\n",
    "    learning_rate=2e-5,\n",
    "    per_device_train_batch_size=32,\n",
    "    per_device_eval_batch_size=32,\n",
    "    evaluation_strategy=\"steps\",\n",
    "    logging_strategy=\"steps\",\n",
    "    logging_steps=400,\n",
    "    num_train_epochs=4,\n",
    "    weight_decay=0.01,\n",
    ")\n",
    "\n",
    "trainer = Trainer(\n",
    "    model=model,\n",
    "    args=training_args,\n",
    "    train_dataset=train_dataset,\n",
    "    eval_dataset=eval_dataset,\n",
    "    tokenizer=tokenizer,\n",
    "    data_collator=data_collator,\n",
    "    compute_metrics=compute_metrics,\n",
    "\n",
    ")\n",
    "\n",
    "trainer.train()\n"
   ]
  },
  {
   "cell_type": "code",
   "execution_count": 47,
   "id": "4bcb61cb-a3d5-42e8-8b3d-f2e9438b9e38",
   "metadata": {},
   "outputs": [
    {
     "data": {
      "text/html": [],
      "text/plain": [
       "<IPython.core.display.HTML object>"
      ]
     },
     "metadata": {},
     "output_type": "display_data"
    },
    {
     "data": {
      "image/png": "[encoded data removed]",
      "text/plain": [
       "<Figure size 800x600 with 2 Axes>"
      ]
     },
     "metadata": {},
     "output_type": "display_data"
    },
    {
     "data": {
      "text/html": [
       "\n",
       "    <div>\n",
       "      \n",
       "      <progress value='1423' max='285' style='width:300px; height:20px; vertical-align: middle;'></progress>\n",
       "      [285/285 01:33]\n",
       "    </div>\n",
       "    "
      ],
      "text/plain": [
       "<IPython.core.display.HTML object>"
      ]
     },
     "metadata": {},
     "output_type": "display_data"
    },
    {
     "name": "stdout",
     "output_type": "stream",
     "text": [
      "Metric                        Value\n",
      "-----------------------  ----------\n",
      "eval_loss                  0.353541\n",
      "eval_f1                    0.913494\n",
      "eval_accuracy              0.912848\n",
      "eval_runtime              19.3313\n",
      "eval_samples_per_second  470.687\n",
      "eval_steps_per_second     14.743\n",
      "epoch                      4\n",
      "Metric                         Value\n",
      "-----------------------  -----------\n",
      "eval_loss                  0.0477545\n",
      "eval_f1                    0.9895\n",
      "eval_accuracy              0.989311\n",
      "eval_runtime              75.0766\n",
      "eval_samples_per_second  484.732\n",
      "eval_steps_per_second     15.158\n",
      "epoch                      4\n"
     ]
    }
   ],
   "source": [
    "from sklearn.metrics import confusion_matrix\n",
    "import seaborn as sns\n",
    "import matplotlib.pyplot as plt\n",
    "from tabulate import tabulate\n",
    "\n",
    "# simple helper functions to print metrics and plot confusion matrices\n",
    "def print_metrics(data):\n",
    "    table = tabulate(data.items(), headers=[\"Metric\", \"Value\"])\n",
    "    print(table)\n",
    "\n",
    "def plot_confusion_matrix(trainer, dataset):\n",
    "    predictions = trainer.predict(dataset)\n",
    "    \n",
    "    predicted_labels = predictions.predictions.argmax(axis=1)\n",
    "    true_labels = predictions.label_ids\n",
    "    \n",
    "    conf_matrix = confusion_matrix(true_labels, predicted_labels)\n",
    "    \n",
    "    plt.figure(figsize=(8, 6))\n",
    "    sns.heatmap(conf_matrix, annot=True, fmt='d', cmap='Blues')\n",
    "    plt.xlabel('Predicted')\n",
    "    plt.ylabel('True')\n",
    "    plt.title('Confusion Matrix')\n",
    "    plt.show()\n",
    "\n",
    "plot_confusion_matrix(trainer, eval_dataset)\n",
    "print_metrics(trainer.evaluate(eval_dataset))\n",
    "print_metrics(trainer.evaluate(train_dataset))\n"
   ]
  },
  {
   "cell_type": "code",
   "execution_count": 7,
   "id": "a31775ce-72f3-4213-8fd0-9aeca83fab92",
   "metadata": {},
   "outputs": [
    {
     "data": {
      "image/png": "[encoded data removed]",
      "text/plain": [
       "<Figure size 800x600 with 2 Axes>"
      ]
     },
     "metadata": {},
     "output_type": "display_data"
    },
    {
     "data": {
      "text/html": [],
      "text/plain": [
       "<IPython.core.display.HTML object>"
      ]
     },
     "metadata": {},
     "output_type": "display_data"
    },
    {
     "name": "stdout",
     "output_type": "stream",
     "text": [
      "Metric                        Value\n",
      "-----------------------  ----------\n",
      "eval_loss                  0.181372\n",
      "eval_f1                    0.949367\n",
      "eval_accuracy              0.948995\n",
      "eval_runtime               3.4407\n",
      "eval_samples_per_second  592.611\n",
      "eval_steps_per_second     18.601\n",
      "epoch                      4\n"
     ]
    }
   ],
   "source": [
    "plot_confusion_matrix(trainer, test_dataset)\n",
    "print_metrics(trainer.evaluate(test_dataset))"
   ]
  },
  {
   "cell_type": "code",
   "execution_count": 48,
   "id": "dacc7afe-c9a4-4c5b-9c80-da3ee1d5d8b4",
   "metadata": {},
   "outputs": [
    {
     "name": "stdout",
     "output_type": "stream",
     "text": [
      "Metric       Value\n",
      "--------  --------\n",
      "f1        0.666618\n",
      "accuracy  0.499945\n"
     ]
    },
    {
     "data": {
      "image/png": "[encoded data removed]",
      "text/plain": [
       "<Figure size 800x600 with 2 Axes>"
      ]
     },
     "metadata": {},
     "output_type": "display_data"
    },
    {
     "name": "stdout",
     "output_type": "stream",
     "text": [
      "Metric       Value\n",
      "--------  --------\n",
      "f1        0.666449\n",
      "accuracy  0.499755\n"
     ]
    },
    {
     "data": {
      "image/png": "[encoded data removed]",
      "text/plain": [
       "<Figure size 800x600 with 2 Axes>"
      ]
     },
     "metadata": {},
     "output_type": "display_data"
    },
    {
     "name": "stdout",
     "output_type": "stream",
     "text": [
      "Metric       Value\n",
      "--------  --------\n",
      "f1        0.673664\n",
      "accuracy  0.507914\n"
     ]
    },
    {
     "data": {
      "image/png": "[encoded data removed]",
      "text/plain": [
       "<Figure size 800x600 with 2 Axes>"
      ]
     },
     "metadata": {},
     "output_type": "display_data"
    }
   ],
   "source": [
    "from sklearn.dummy import DummyClassifier\n",
    "\n",
    "def dummy_confusion_matrix(X, y):\n",
    "    predictions = dummy_clf.predict(X)\n",
    "    f1_score = f1.compute(predictions=predictions, references=y)\n",
    "    accuracy_score = accuracy.compute(predictions=predictions, references=y)\n",
    "    print(tabulate({\"f1\": f1_score[\"f1\"], \"accuracy\": accuracy_score[\"accuracy\"]}.items(), headers=[\"Metric\", \"Value\"]))\n",
    "    \n",
    "    conf_matrix = confusion_matrix(y, predictions)\n",
    "        \n",
    "    plt.figure(figsize=(8, 6))\n",
    "    sns.heatmap(conf_matrix, annot=True, fmt='d', cmap='Blues')\n",
    "    plt.xlabel('Predicted')\n",
    "    plt.ylabel('True')\n",
    "    plt.title('Confusion Matrix')\n",
    "    plt.show()\n",
    "\n",
    "X_train = train_dataset[\"text\"]\n",
    "y_train = train_dataset[\"label\"]\n",
    "\n",
    "X_val = eval_dataset[\"text\"]\n",
    "y_val = eval_dataset[\"label\"]\n",
    "\n",
    "X_test = test_dataset[\"text\"]\n",
    "y_test = test_dataset[\"label\"]\n",
    "dummy_clf = DummyClassifier(strategy=\"most_frequent\")\n",
    "dummy_clf.fit(X_train, y_train)\n",
    "\n",
    "dummy_confusion_matrix(X_val, y_val)\n",
    "dummy_confusion_matrix(X_test, y_test)\n",
    "dummy_confusion_matrix(X_train, y_train)\n",
    "\n"
   ]
  },
  {
   "cell_type": "code",
   "execution_count": 8,
   "id": "13e76997-9c5e-429d-9cf5-2f35b8c6f27b",
   "metadata": {},
   "outputs": [],
   "source": [
    "\n",
    "def get_wrong_predictions(trainer, dataset, num_samples = 10, shuffle: bool = False):\n",
    "    \"\"\"Helper function to get the wrong predictions of a model and the true labels\"\"\"\n",
    "    predictions = trainer.predict(dataset)\n",
    "    predicted_labels = predictions.predictions.argmax(axis=1)\n",
    "    true_labels = predictions.label_ids\n",
    "\n",
    "\n",
    "    # create a list of wrongly predicted indices\n",
    "    wrong_prediction_indices = [i for i, b in enumerate(predicted_labels != true_labels) if b]\n",
    "\n",
    "    wrong_predictions = dataset[wrong_prediction_indices]\n",
    "    wrong_predictions = pd.DataFrame(wrong_predictions).drop(columns=[\"input_ids\", \"token_type_ids\", \"attention_mask\", \"label\"])\n",
    "    wrong_predictions[\"true_label\"] = true_labels[wrong_prediction_indices]\n",
    "    wrong_predictions[\"predicted_label\"] = predicted_labels[wrong_prediction_indices]\n",
    "    wrong_predictions = wrong_predictions[[\"text\", \"predicted_label\", \"true_label\"]]\n",
    "    if shuffle:\n",
    "        wrong_predictions = wrong_predictions.sample(frac=1)\n",
    "    return wrong_predictions[:num_samples]\n",
    "    \n",
    "    "
   ]
  },
  {
   "cell_type": "code",
   "execution_count": 9,
   "id": "01d318c6-d8b5-43dc-919c-04739e8b7319",
   "metadata": {},
   "outputs": [],
   "source": [
    "wrong_predictions_df = get_wrong_predictions(trainer, test_dataset, num_samples=10000)"
   ]
  },
  {
   "cell_type": "code",
   "execution_count": 46,
   "id": "7096bd90-b779-42ce-855c-f4bceb4e6ff8",
   "metadata": {},
   "outputs": [
    {
     "data": {
      "text/html": [
       "<div>\n",
       "<style scoped>\n",
       "    .dataframe tbody tr th:only-of-type {\n",
       "        vertical-align: middle;\n",
       "    }\n",
       "\n",
       "    .dataframe tbody tr th {\n",
       "        vertical-align: top;\n",
       "    }\n",
       "\n",
       "    .dataframe thead th {\n",
       "        text-align: right;\n",
       "    }\n",
       "</style>\n",
       "<table border=\"1\" class=\"dataframe\">\n",
       "  <thead>\n",
       "    <tr style=\"text-align: right;\">\n",
       "      <th></th>\n",
       "      <th>text</th>\n",
       "      <th>predicted_label</th>\n",
       "      <th>true_label</th>\n",
       "    </tr>\n",
       "  </thead>\n",
       "  <tbody>\n",
       "    <tr>\n",
       "      <th>0</th>\n",
       "      <td>Don't tell me what to do with my body - the sa...</td>\n",
       "      <td>0</td>\n",
       "      <td>1</td>\n",
       "    </tr>\n",
       "    <tr>\n",
       "      <th>1</th>\n",
       "      <td>It's safe because it wasn't rushed. I could ma...</td>\n",
       "      <td>1</td>\n",
       "      <td>0</td>\n",
       "    </tr>\n",
       "    <tr>\n",
       "      <th>2</th>\n",
       "      <td>Vaccines are saving lives meanwhile romania be...</td>\n",
       "      <td>1</td>\n",
       "      <td>0</td>\n",
       "    </tr>\n",
       "    <tr>\n",
       "      <th>3</th>\n",
       "      <td>We take other risks so taking this one shouldn...</td>\n",
       "      <td>1</td>\n",
       "      <td>0</td>\n",
       "    </tr>\n",
       "    <tr>\n",
       "      <th>4</th>\n",
       "      <td>1 death from a vaccine is too many.</td>\n",
       "      <td>1</td>\n",
       "      <td>0</td>\n",
       "    </tr>\n",
       "    <tr>\n",
       "      <th>...</th>\n",
       "      <td>...</td>\n",
       "      <td>...</td>\n",
       "      <td>...</td>\n",
       "    </tr>\n",
       "    <tr>\n",
       "      <th>99</th>\n",
       "      <td>that vaccines are preventing millions of death...</td>\n",
       "      <td>1</td>\n",
       "      <td>0</td>\n",
       "    </tr>\n",
       "    <tr>\n",
       "      <th>100</th>\n",
       "      <td>the vaccine is developed by a trusted company</td>\n",
       "      <td>0</td>\n",
       "      <td>1</td>\n",
       "    </tr>\n",
       "    <tr>\n",
       "      <th>101</th>\n",
       "      <td>“Anti-vaxers” are just more intelligent than t...</td>\n",
       "      <td>1</td>\n",
       "      <td>0</td>\n",
       "    </tr>\n",
       "    <tr>\n",
       "      <th>102</th>\n",
       "      <td>“Covid-19 is created by demon” Earth is turnon...</td>\n",
       "      <td>1</td>\n",
       "      <td>0</td>\n",
       "    </tr>\n",
       "    <tr>\n",
       "      <th>103</th>\n",
       "      <td>”i’d do anything to keep my child safe” except...</td>\n",
       "      <td>0</td>\n",
       "      <td>1</td>\n",
       "    </tr>\n",
       "  </tbody>\n",
       "</table>\n",
       "<p>104 rows × 3 columns</p>\n",
       "</div>"
      ],
      "text/plain": [
       "                                                  text  predicted_label  \\\n",
       "0    Don't tell me what to do with my body - the sa...                0   \n",
       "1    It's safe because it wasn't rushed. I could ma...                1   \n",
       "2    Vaccines are saving lives meanwhile romania be...                1   \n",
       "3    We take other risks so taking this one shouldn...                1   \n",
       "4                  1 death from a vaccine is too many.                1   \n",
       "..                                                 ...              ...   \n",
       "99   that vaccines are preventing millions of death...                1   \n",
       "100      the vaccine is developed by a trusted company                0   \n",
       "101  “Anti-vaxers” are just more intelligent than t...                1   \n",
       "102  “Covid-19 is created by demon” Earth is turnon...                1   \n",
       "103  ”i’d do anything to keep my child safe” except...                0   \n",
       "\n",
       "     true_label  \n",
       "0             1  \n",
       "1             0  \n",
       "2             0  \n",
       "3             0  \n",
       "4             0  \n",
       "..          ...  \n",
       "99            0  \n",
       "100           1  \n",
       "101           0  \n",
       "102           0  \n",
       "103           1  \n",
       "\n",
       "[104 rows x 3 columns]"
      ]
     },
     "execution_count": 46,
     "metadata": {},
     "output_type": "execute_result"
    }
   ],
   "source": [
    "wrong_predictions_df"
   ]
  },
  {
   "cell_type": "code",
   "execution_count": 79,
   "id": "bef7a95b-c6a1-4346-85aa-34b6c9b71f5d",
   "metadata": {},
   "outputs": [
    {
     "name": "stdout",
     "output_type": "stream",
     "text": [
      "proportion of examples where all annotators agree on the same label:  0.8437924422785013\n",
      "proportion of examples where annotators disagree on the same label:  0.15620755772149877\n"
     ]
    }
   ],
   "source": [
    "original_df = pd.read_csv(filepath_tsv, sep=\"\\t\", header=None)\n",
    "\n",
    "# simple code to calculate the proportion of examples where all annotators agree on the same label\n",
    "agree = 0\n",
    "disagree = 0\n",
    "test = 0\n",
    "for labels in original_df[0]:\n",
    "    annotated_labels = labels.split(\"/\") \n",
    "    set_of_labels = set(annotated_labels)\n",
    "    counts = Counter(annotated_labels)\n",
    "\n",
    "    if len(set_of_labels) == 1:\n",
    "        agree += 1\n",
    "    else:\n",
    "        disagree += 1\n",
    "\n",
    "\n",
    "print(\"proportion of examples where all annotators agree on the same label: \", agree / len(original_df))\n",
    "print(\"proportion of examples where annotators disagree on the same label: \", disagree / len(original_df))"
   ]
  }
 ],
 "metadata": {
  "kernelspec": {
   "display_name": "Python 3 (ipykernel)",
   "language": "python",
   "name": "python3"
  },
  "language_info": {
   "codemirror_mode": {
    "name": "ipython",
    "version": 3
   },
   "file_extension": ".py",
   "mimetype": "text/x-python",
   "name": "python",
   "nbconvert_exporter": "python",
   "pygments_lexer": "ipython3",
   "version": "3.10.13"
  }
 },
 "nbformat": 4,
 "nbformat_minor": 5
}
